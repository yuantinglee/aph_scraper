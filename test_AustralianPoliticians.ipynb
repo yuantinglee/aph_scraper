{
 "cells": [
  {
   "cell_type": "code",
   "execution_count": 1,
   "metadata": {},
   "outputs": [
    {
     "name": "stderr",
     "output_type": "stream",
     "text": [
      "/home/leey/venv/lib/python3.7/site-packages/psycopg2/__init__.py:144: UserWarning: The psycopg2 wheel package will be renamed from release 2.8; in order to keep installing from binary please use \"pip install psycopg2-binary\" instead. For details see: <http://initd.org/psycopg/docs/install.html#binary-install-from-pypi>.\n",
      "  \"\"\")\n",
      "Slow version of gensim.models.doc2vec is being used\n",
      "Slow version of Fasttext is being used\n"
     ]
    }
   ],
   "source": [
    "import os\n",
    "import difflib\n",
    "import zipfile\n",
    "import lxml.etree as etree\n",
    "import random\n",
    "import re\n",
    "import sys\n",
    "from datetime import datetime\n",
    "import pandas as pd\n",
    "\n",
    "import django\n",
    "import platform\n",
    "\n",
    "sys.path.append('/home/leey/Documents/Data/tmv/BasicBrowser/')\n",
    "os.environ.setdefault(\"DJANGO_SETTINGS_MODULE\", \"BasicBrowser.settings\")\n",
    "django.setup()\n",
    "\n",
    "# import from appended path\n",
    "import parliament.models as pm\n",
    "import cities.models as cmodels\n",
    "from django.contrib.auth.models import User\n",
    "import tmv_app.models as tm\n",
    "\n",
    "#from parsing_utils import POI, dehyphenate_with_space, clean_text, find_person_in_db_aph\n",
    "#from aph_model_builder import *"
   ]
  },
  {
   "cell_type": "code",
   "execution_count": 2,
   "metadata": {},
   "outputs": [],
   "source": [
    "data_dir = '/home/leey/Documents/Data/AustralianPoliticians/data-raw/'"
   ]
  },
  {
   "cell_type": "code",
   "execution_count": 3,
   "metadata": {},
   "outputs": [],
   "source": [
    "df_all = pd.read_csv(data_dir+'all.csv')"
   ]
  },
  {
   "cell_type": "code",
   "execution_count": 58,
   "metadata": {
    "scrolled": true
   },
   "outputs": [
    {
     "data": {
      "text/html": [
       "<div>\n",
       "<style scoped>\n",
       "    .dataframe tbody tr th:only-of-type {\n",
       "        vertical-align: middle;\n",
       "    }\n",
       "\n",
       "    .dataframe tbody tr th {\n",
       "        vertical-align: top;\n",
       "    }\n",
       "\n",
       "    .dataframe thead th {\n",
       "        text-align: right;\n",
       "    }\n",
       "</style>\n",
       "<table border=\"1\" class=\"dataframe\">\n",
       "  <thead>\n",
       "    <tr style=\"text-align: right;\">\n",
       "      <th></th>\n",
       "      <th>uniqueID</th>\n",
       "      <th>surname</th>\n",
       "      <th>allOtherNames</th>\n",
       "      <th>firstName</th>\n",
       "      <th>commonName</th>\n",
       "      <th>displayName</th>\n",
       "      <th>earlierOrLaterNames</th>\n",
       "      <th>title</th>\n",
       "      <th>gender</th>\n",
       "      <th>birthDate</th>\n",
       "      <th>birthYear</th>\n",
       "      <th>deathDate</th>\n",
       "      <th>member</th>\n",
       "      <th>senator</th>\n",
       "      <th>wikidataID</th>\n",
       "      <th>wikipedia</th>\n",
       "      <th>adb</th>\n",
       "      <th>comments</th>\n",
       "    </tr>\n",
       "  </thead>\n",
       "  <tbody>\n",
       "    <tr>\n",
       "      <th>0</th>\n",
       "      <td>Abbott1859</td>\n",
       "      <td>Abbott</td>\n",
       "      <td>Richard Hartley Smith</td>\n",
       "      <td>Richard</td>\n",
       "      <td>NaN</td>\n",
       "      <td>Abbott, Richard</td>\n",
       "      <td>NaN</td>\n",
       "      <td>NaN</td>\n",
       "      <td>male</td>\n",
       "      <td>NaN</td>\n",
       "      <td>1859.0</td>\n",
       "      <td>1940-02-28</td>\n",
       "      <td>0</td>\n",
       "      <td>1</td>\n",
       "      <td>Q7323613</td>\n",
       "      <td>https://en.wikipedia.org/wiki/Richard_Abbott_(...</td>\n",
       "      <td>NaN</td>\n",
       "      <td>NaN</td>\n",
       "    </tr>\n",
       "    <tr>\n",
       "      <th>1</th>\n",
       "      <td>Abbott1869</td>\n",
       "      <td>Abbott</td>\n",
       "      <td>Percy Phipps</td>\n",
       "      <td>Percy</td>\n",
       "      <td>NaN</td>\n",
       "      <td>Abbott, Percy</td>\n",
       "      <td>NaN</td>\n",
       "      <td>NaN</td>\n",
       "      <td>male</td>\n",
       "      <td>1869-05-14</td>\n",
       "      <td>NaN</td>\n",
       "      <td>1940-09-09</td>\n",
       "      <td>1</td>\n",
       "      <td>1</td>\n",
       "      <td>Q7167212</td>\n",
       "      <td>https://en.wikipedia.org/wiki/Percy_Abbott_(Au...</td>\n",
       "      <td>NaN</td>\n",
       "      <td>NaN</td>\n",
       "    </tr>\n",
       "    <tr>\n",
       "      <th>2</th>\n",
       "      <td>Abbott1877</td>\n",
       "      <td>Abbott</td>\n",
       "      <td>Macartney</td>\n",
       "      <td>Macartney</td>\n",
       "      <td>Mac</td>\n",
       "      <td>Abbott, Mac</td>\n",
       "      <td>NaN</td>\n",
       "      <td>NaN</td>\n",
       "      <td>male</td>\n",
       "      <td>1877-07-03</td>\n",
       "      <td>NaN</td>\n",
       "      <td>1960-12-30</td>\n",
       "      <td>0</td>\n",
       "      <td>1</td>\n",
       "      <td>Q6722175</td>\n",
       "      <td>https://en.wikipedia.org/wiki/Mac_Abbott</td>\n",
       "      <td>NaN</td>\n",
       "      <td>NaN</td>\n",
       "    </tr>\n",
       "    <tr>\n",
       "      <th>3</th>\n",
       "      <td>Abbott1886</td>\n",
       "      <td>Abbott</td>\n",
       "      <td>Charles Lydiard Aubrey</td>\n",
       "      <td>Charles</td>\n",
       "      <td>Aubrey</td>\n",
       "      <td>Abbott, Aubrey</td>\n",
       "      <td>NaN</td>\n",
       "      <td>NaN</td>\n",
       "      <td>male</td>\n",
       "      <td>1886-01-04</td>\n",
       "      <td>NaN</td>\n",
       "      <td>1975-04-30</td>\n",
       "      <td>1</td>\n",
       "      <td>0</td>\n",
       "      <td>Q4819077</td>\n",
       "      <td>https://en.wikipedia.org/wiki/Aubrey_Abbott</td>\n",
       "      <td>NaN</td>\n",
       "      <td>NaN</td>\n",
       "    </tr>\n",
       "    <tr>\n",
       "      <th>4</th>\n",
       "      <td>Abbott1891</td>\n",
       "      <td>Abbott</td>\n",
       "      <td>Joseph Palmer</td>\n",
       "      <td>Joseph</td>\n",
       "      <td>NaN</td>\n",
       "      <td>Abbott, Joseph</td>\n",
       "      <td>NaN</td>\n",
       "      <td>NaN</td>\n",
       "      <td>male</td>\n",
       "      <td>1891-10-18</td>\n",
       "      <td>NaN</td>\n",
       "      <td>1965-05-07</td>\n",
       "      <td>1</td>\n",
       "      <td>0</td>\n",
       "      <td>Q6286049</td>\n",
       "      <td>https://en.wikipedia.org/wiki/Joseph_Palmer_Ab...</td>\n",
       "      <td>NaN</td>\n",
       "      <td>NaN</td>\n",
       "    </tr>\n",
       "  </tbody>\n",
       "</table>\n",
       "</div>"
      ],
      "text/plain": [
       "     uniqueID surname           allOtherNames  firstName commonName  \\\n",
       "0  Abbott1859  Abbott   Richard Hartley Smith    Richard        NaN   \n",
       "1  Abbott1869  Abbott            Percy Phipps      Percy        NaN   \n",
       "2  Abbott1877  Abbott               Macartney  Macartney        Mac   \n",
       "3  Abbott1886  Abbott  Charles Lydiard Aubrey    Charles     Aubrey   \n",
       "4  Abbott1891  Abbott           Joseph Palmer     Joseph        NaN   \n",
       "\n",
       "       displayName earlierOrLaterNames title gender   birthDate  birthYear  \\\n",
       "0  Abbott, Richard                 NaN   NaN   male         NaN     1859.0   \n",
       "1    Abbott, Percy                 NaN   NaN   male  1869-05-14        NaN   \n",
       "2      Abbott, Mac                 NaN   NaN   male  1877-07-03        NaN   \n",
       "3   Abbott, Aubrey                 NaN   NaN   male  1886-01-04        NaN   \n",
       "4   Abbott, Joseph                 NaN   NaN   male  1891-10-18        NaN   \n",
       "\n",
       "    deathDate  member  senator wikidataID  \\\n",
       "0  1940-02-28       0        1   Q7323613   \n",
       "1  1940-09-09       1        1   Q7167212   \n",
       "2  1960-12-30       0        1   Q6722175   \n",
       "3  1975-04-30       1        0   Q4819077   \n",
       "4  1965-05-07       1        0   Q6286049   \n",
       "\n",
       "                                           wikipedia  adb comments  \n",
       "0  https://en.wikipedia.org/wiki/Richard_Abbott_(...  NaN      NaN  \n",
       "1  https://en.wikipedia.org/wiki/Percy_Abbott_(Au...  NaN      NaN  \n",
       "2           https://en.wikipedia.org/wiki/Mac_Abbott  NaN      NaN  \n",
       "3        https://en.wikipedia.org/wiki/Aubrey_Abbott  NaN      NaN  \n",
       "4  https://en.wikipedia.org/wiki/Joseph_Palmer_Ab...  NaN      NaN  "
      ]
     },
     "execution_count": 58,
     "metadata": {},
     "output_type": "execute_result"
    }
   ],
   "source": [
    "df_all.head()"
   ]
  },
  {
   "cell_type": "code",
   "execution_count": 4,
   "metadata": {
    "scrolled": true
   },
   "outputs": [],
   "source": [
    "df_all['deathDate'] = pd.to_datetime(df_all['deathDate'],infer_datetime_format=True)"
   ]
  },
  {
   "cell_type": "code",
   "execution_count": 5,
   "metadata": {},
   "outputs": [],
   "source": [
    "df_all['birthDate'] = pd.to_datetime(df_all['birthDate'],infer_datetime_format=True)"
   ]
  },
  {
   "cell_type": "code",
   "execution_count": 6,
   "metadata": {
    "scrolled": false
   },
   "outputs": [
    {
     "data": {
      "text/plain": [
       "uniqueID                       object\n",
       "surname                        object\n",
       "allOtherNames                  object\n",
       "firstName                      object\n",
       "commonName                     object\n",
       "displayName                    object\n",
       "earlierOrLaterNames            object\n",
       "title                          object\n",
       "gender                         object\n",
       "birthDate              datetime64[ns]\n",
       "birthYear                     float64\n",
       "deathDate              datetime64[ns]\n",
       "member                          int64\n",
       "senator                         int64\n",
       "wikidataID                     object\n",
       "wikipedia                      object\n",
       "adb                            object\n",
       "comments                       object\n",
       "dtype: object"
      ]
     },
     "execution_count": 6,
     "metadata": {},
     "output_type": "execute_result"
    }
   ],
   "source": [
    "df_all.dtypes"
   ]
  },
  {
   "cell_type": "code",
   "execution_count": 68,
   "metadata": {},
   "outputs": [
    {
     "data": {
      "text/plain": [
       "False"
      ]
     },
     "execution_count": 68,
     "metadata": {},
     "output_type": "execute_result"
    }
   ],
   "source": [
    "df_all['birthDate'][0] == None"
   ]
  },
  {
   "cell_type": "code",
   "execution_count": 15,
   "metadata": {},
   "outputs": [
    {
     "data": {
      "text/plain": [
       "str"
      ]
     },
     "execution_count": 15,
     "metadata": {},
     "output_type": "execute_result"
    }
   ],
   "source": [
    "for i in df_all.index:\n",
    "    pol = df_all.loc[i]\n",
    "    break\n",
    "title = str(pol['title'])\n",
    "type(title)"
   ]
  },
  {
   "cell_type": "code",
   "execution_count": 30,
   "metadata": {},
   "outputs": [],
   "source": [
    "import numpy as np"
   ]
  },
  {
   "cell_type": "code",
   "execution_count": 29,
   "metadata": {},
   "outputs": [
    {
     "data": {
      "text/plain": [
       "float"
      ]
     },
     "execution_count": 29,
     "metadata": {},
     "output_type": "execute_result"
    }
   ],
   "source": [
    "for i in df_all.index:\n",
    "    pol = df_all.loc[i]\n",
    "    break\n",
    "title = pol['birthDate']\n",
    "type(title)"
   ]
  },
  {
   "cell_type": "code",
   "execution_count": 31,
   "metadata": {},
   "outputs": [
    {
     "data": {
      "text/plain": [
       "True"
      ]
     },
     "execution_count": 31,
     "metadata": {},
     "output_type": "execute_result"
    }
   ],
   "source": [
    "np.isnan(title)"
   ]
  },
  {
   "cell_type": "code",
   "execution_count": 5,
   "metadata": {
    "scrolled": true
   },
   "outputs": [
    {
     "data": {
      "text/plain": [
       "Index(['uniqueID', 'surname', 'allOtherNames', 'firstName', 'commonName',\n",
       "       'displayName', 'earlierOrLaterNames', 'title', 'gender', 'birthDate',\n",
       "       'birthYear', 'deathDate', 'member', 'senator', 'wikidataID',\n",
       "       'wikipedia', 'adb', 'comments'],\n",
       "      dtype='object')"
      ]
     },
     "execution_count": 5,
     "metadata": {},
     "output_type": "execute_result"
    }
   ],
   "source": [
    "df_all.columns"
   ]
  },
  {
   "cell_type": "code",
   "execution_count": 6,
   "metadata": {},
   "outputs": [],
   "source": [
    "df_party = pd.read_csv(data_dir+'by_party.csv')"
   ]
  },
  {
   "cell_type": "code",
   "execution_count": 7,
   "metadata": {
    "scrolled": true
   },
   "outputs": [
    {
     "data": {
      "text/html": [
       "<div>\n",
       "<style scoped>\n",
       "    .dataframe tbody tr th:only-of-type {\n",
       "        vertical-align: middle;\n",
       "    }\n",
       "\n",
       "    .dataframe tbody tr th {\n",
       "        vertical-align: top;\n",
       "    }\n",
       "\n",
       "    .dataframe thead th {\n",
       "        text-align: right;\n",
       "    }\n",
       "</style>\n",
       "<table border=\"1\" class=\"dataframe\">\n",
       "  <thead>\n",
       "    <tr style=\"text-align: right;\">\n",
       "      <th></th>\n",
       "      <th>uniqueID</th>\n",
       "      <th>partyAbbrev</th>\n",
       "      <th>partyName</th>\n",
       "      <th>partyFrom</th>\n",
       "      <th>partyTo</th>\n",
       "      <th>partyChangedName</th>\n",
       "      <th>partySimplifiedName</th>\n",
       "      <th>partySpecificDateInputted</th>\n",
       "      <th>partyComments</th>\n",
       "    </tr>\n",
       "  </thead>\n",
       "  <tbody>\n",
       "    <tr>\n",
       "      <th>0</th>\n",
       "      <td>Abbott1859</td>\n",
       "      <td>CP</td>\n",
       "      <td>Australian Country Party</td>\n",
       "      <td>NaN</td>\n",
       "      <td>NaN</td>\n",
       "      <td>NaN</td>\n",
       "      <td>Nationals</td>\n",
       "      <td>NaN</td>\n",
       "      <td>NaN</td>\n",
       "    </tr>\n",
       "    <tr>\n",
       "      <th>1</th>\n",
       "      <td>Abbott1869</td>\n",
       "      <td>CP</td>\n",
       "      <td>Australian Country Party</td>\n",
       "      <td>1919-11-03</td>\n",
       "      <td>NaN</td>\n",
       "      <td>NaN</td>\n",
       "      <td>Nationals</td>\n",
       "      <td>NaN</td>\n",
       "      <td>NaN</td>\n",
       "    </tr>\n",
       "    <tr>\n",
       "      <th>2</th>\n",
       "      <td>Abbott1869</td>\n",
       "      <td>LIB</td>\n",
       "      <td>Liberal Party of Australia</td>\n",
       "      <td>NaN</td>\n",
       "      <td>1917-02-17</td>\n",
       "      <td>NaN</td>\n",
       "      <td>Liberals</td>\n",
       "      <td>NaN</td>\n",
       "      <td>NaN</td>\n",
       "    </tr>\n",
       "    <tr>\n",
       "      <th>3</th>\n",
       "      <td>Abbott1869</td>\n",
       "      <td>NAT</td>\n",
       "      <td>Nationalist Party</td>\n",
       "      <td>1917-02-17</td>\n",
       "      <td>1919-11-03</td>\n",
       "      <td>NaN</td>\n",
       "      <td>Nationalist Party</td>\n",
       "      <td>NaN</td>\n",
       "      <td>NaN</td>\n",
       "    </tr>\n",
       "    <tr>\n",
       "      <th>4</th>\n",
       "      <td>Abbott1877</td>\n",
       "      <td>CP</td>\n",
       "      <td>Australian Country Party</td>\n",
       "      <td>NaN</td>\n",
       "      <td>NaN</td>\n",
       "      <td>NaN</td>\n",
       "      <td>Nationals</td>\n",
       "      <td>NaN</td>\n",
       "      <td>NaN</td>\n",
       "    </tr>\n",
       "  </tbody>\n",
       "</table>\n",
       "</div>"
      ],
      "text/plain": [
       "     uniqueID partyAbbrev                   partyName   partyFrom     partyTo  \\\n",
       "0  Abbott1859          CP    Australian Country Party         NaN         NaN   \n",
       "1  Abbott1869          CP    Australian Country Party  1919-11-03         NaN   \n",
       "2  Abbott1869         LIB  Liberal Party of Australia         NaN  1917-02-17   \n",
       "3  Abbott1869         NAT           Nationalist Party  1917-02-17  1919-11-03   \n",
       "4  Abbott1877          CP    Australian Country Party         NaN         NaN   \n",
       "\n",
       "   partyChangedName partySimplifiedName  partySpecificDateInputted  \\\n",
       "0               NaN           Nationals                        NaN   \n",
       "1               NaN           Nationals                        NaN   \n",
       "2               NaN            Liberals                        NaN   \n",
       "3               NaN   Nationalist Party                        NaN   \n",
       "4               NaN           Nationals                        NaN   \n",
       "\n",
       "  partyComments  \n",
       "0           NaN  \n",
       "1           NaN  \n",
       "2           NaN  \n",
       "3           NaN  \n",
       "4           NaN  "
      ]
     },
     "execution_count": 7,
     "metadata": {},
     "output_type": "execute_result"
    }
   ],
   "source": [
    "df_party.head()"
   ]
  },
  {
   "cell_type": "code",
   "execution_count": 12,
   "metadata": {},
   "outputs": [],
   "source": [
    "for i in df_all.index:\n",
    "    pol = df_all.loc[i]\n",
    "    df_party.where(df_party['uniqueID']==pol['uniqueID']).notna()"
   ]
  },
  {
   "cell_type": "markdown",
   "metadata": {},
   "source": [
    "### building a parser"
   ]
  },
  {
   "cell_type": "code",
   "execution_count": 3,
   "metadata": {},
   "outputs": [],
   "source": [
    "POL_FNAME = data_dir + 'all.csv'"
   ]
  },
  {
   "cell_type": "code",
   "execution_count": 32,
   "metadata": {},
   "outputs": [],
   "source": [
    "def parse_aph_data(verbosity=0):\n",
    "\n",
    "    warn = 0\n",
    "\n",
    "    df_pol = pd.read_csv(POL_FNAME)\n",
    "    print(\"read data from {}\".format(POL_FNAME))\n",
    "\n",
    "    # going through entries for mdbs\n",
    "    for i in df_pol.index:\n",
    "        pol = df_pol.loc[i]\n",
    "\n",
    "        person = pm.Person(\n",
    "            surname=str(pol['surname']),\n",
    "            first_name=str(pol['firstName']),\n",
    "            unique_id=str(pol['uniqueID'])\n",
    "            )\n",
    "\n",
    "        # profile information\n",
    "        title = str(pol['title'])\n",
    "        if title is not None:\n",
    "            person.title = title\n",
    "\n",
    "        dob = pol['birthDate']\n",
    "        dod = pol['deathDate']\n",
    "        yob = int(pol['birthYear'])\n",
    "        \n",
    "        if np.isnan(dob) == False:\n",
    "            person.date_of_birth = datetime.strptime(str(dob), '%Y-%m-%d') \n",
    "        else:\n",
    "            person.year_of_birth = yob\n",
    "        \n",
    "        if np.isnan(dod) == False:\n",
    "            person.date_of_death = datetime.strptime(str(dod), '%Y-%m-%d')\n",
    "\n",
    "        if pol['gender'] == \"male\":\n",
    "            person.gender = pm.Person.MALE\n",
    "        elif pol['gender'] == \"female\":\n",
    "            person.gender = pm.Person.FEMALE\n",
    "\n",
    "        # additional names\n",
    "        # surnames_list = []\n",
    "        firstnames_list = []\n",
    "\n",
    "        firstname = pol['allOtherNames']\n",
    "\n",
    "        if isinstance(firstname, str):\n",
    "            firstnames_list.append(firstname)\n",
    "\n",
    "            if len(firstname.split(' ')) > 1:\n",
    "                for fname in firstname.split(\" \"):\n",
    "                    if len(fname) > 2:\n",
    "                        firstnames_list.append(fname)\n",
    "\n",
    "\n",
    "        commonname = pol['commonName']\n",
    "\n",
    "        if isinstance(commonname, str):\n",
    "            firstnames_list.append(commonname)\n",
    "\n",
    "            if len(commonname.split(' ')) > 1:\n",
    "                for cname in commonname.split(\" \"):\n",
    "                    if len(cname) > 2:\n",
    "                        firstnames_list.append(cname)\n",
    "\n",
    "        person.alt_first_names = list(set(firstnames_list))\n",
    "\n",
    "        if verbosity > 0:\n",
    "            # print name\n",
    "            print(\"Person: {}\".format(person))\n",
    "\n",
    "        # political party\n",
    "        # match politician ID in df_pol to df_party to find party\n",
    "        #try:\n",
    "        #    person.party = Party.objects.get(alt_names__contains=)\n",
    "        #except Party.DoesNotExist:\n",
    "        #    if biodata.find('PARTEI_KURZ').text == 'Plos':\n",
    "        #        person.party = Party.objects.get(name=\"parteilos\")\n",
    "        #        pass\n",
    "        #    else:\n",
    "        #        print(\"Warning: Party not found: {}\".format(biodata.find(\"PARTEI_KURZ\").text))\n",
    "        #        warn += 1\n",
    "\n",
    "        # name id\n",
    "\n",
    "\n",
    "        person.active_country = cmodels.Country.objects.get(name='Australia')\n",
    "        # adding positions\n",
    "        if pol['member'] == 1:\n",
    "            person.positions = ['Member']\n",
    "        if pol['senator'] == 1:\n",
    "            person.positions = ['Senator']\n",
    "\n",
    "        person.information_source = \"AustralianPoliticians\"\n",
    "        person.save()\n",
    "\n",
    "        person.in_parlperiod = wp_list\n",
    "        person.save()\n",
    "\n",
    "    print(\"Done. {} warnings.\".format(warn))"
   ]
  },
  {
   "cell_type": "code",
   "execution_count": 33,
   "metadata": {},
   "outputs": [
    {
     "name": "stdout",
     "output_type": "stream",
     "text": [
      "read data from /home/leey/Documents/Data/AustralianPoliticians/data-raw/all.csv\n"
     ]
    },
    {
     "ename": "TypeError",
     "evalue": "ufunc 'isnan' not supported for the input types, and the inputs could not be safely coerced to any supported types according to the casting rule ''safe''",
     "output_type": "error",
     "traceback": [
      "\u001b[0;31m---------------------------------------------------------------------------\u001b[0m",
      "\u001b[0;31mTypeError\u001b[0m                                 Traceback (most recent call last)",
      "\u001b[0;32m<ipython-input-33-e79c4006fe29>\u001b[0m in \u001b[0;36m<module>\u001b[0;34m()\u001b[0m\n\u001b[1;32m     17\u001b[0m     \u001b[0;31m# update_parties()\u001b[0m\u001b[0;34m\u001b[0m\u001b[0;34m\u001b[0m\u001b[0;34m\u001b[0m\u001b[0m\n\u001b[1;32m     18\u001b[0m     \u001b[0;31m# parsing the data\u001b[0m\u001b[0;34m\u001b[0m\u001b[0;34m\u001b[0m\u001b[0;34m\u001b[0m\u001b[0m\n\u001b[0;32m---> 19\u001b[0;31m     \u001b[0mparse_aph_data\u001b[0m\u001b[0;34m(\u001b[0m\u001b[0mverbosity\u001b[0m\u001b[0;34m=\u001b[0m\u001b[0;36m0\u001b[0m\u001b[0;34m)\u001b[0m\u001b[0;34m\u001b[0m\u001b[0;34m\u001b[0m\u001b[0m\n\u001b[0m",
      "\u001b[0;32m<ipython-input-32-38d58cedfb79>\u001b[0m in \u001b[0;36mparse_aph_data\u001b[0;34m(verbosity)\u001b[0m\n\u001b[1;32m     30\u001b[0m             \u001b[0mperson\u001b[0m\u001b[0;34m.\u001b[0m\u001b[0myear_of_birth\u001b[0m \u001b[0;34m=\u001b[0m \u001b[0myob\u001b[0m\u001b[0;34m\u001b[0m\u001b[0;34m\u001b[0m\u001b[0m\n\u001b[1;32m     31\u001b[0m \u001b[0;34m\u001b[0m\u001b[0m\n\u001b[0;32m---> 32\u001b[0;31m         \u001b[0;32mif\u001b[0m \u001b[0mnp\u001b[0m\u001b[0;34m.\u001b[0m\u001b[0misnan\u001b[0m\u001b[0;34m(\u001b[0m\u001b[0mdod\u001b[0m\u001b[0;34m)\u001b[0m \u001b[0;34m==\u001b[0m \u001b[0;32mFalse\u001b[0m\u001b[0;34m:\u001b[0m\u001b[0;34m\u001b[0m\u001b[0;34m\u001b[0m\u001b[0m\n\u001b[0m\u001b[1;32m     33\u001b[0m             \u001b[0mperson\u001b[0m\u001b[0;34m.\u001b[0m\u001b[0mdate_of_death\u001b[0m \u001b[0;34m=\u001b[0m \u001b[0mdatetime\u001b[0m\u001b[0;34m.\u001b[0m\u001b[0mstrptime\u001b[0m\u001b[0;34m(\u001b[0m\u001b[0mstr\u001b[0m\u001b[0;34m(\u001b[0m\u001b[0mdod\u001b[0m\u001b[0;34m)\u001b[0m\u001b[0;34m,\u001b[0m \u001b[0;34m'%Y-%m-%d'\u001b[0m\u001b[0;34m)\u001b[0m\u001b[0;34m\u001b[0m\u001b[0;34m\u001b[0m\u001b[0m\n\u001b[1;32m     34\u001b[0m \u001b[0;34m\u001b[0m\u001b[0m\n",
      "\u001b[0;31mTypeError\u001b[0m: ufunc 'isnan' not supported for the input types, and the inputs could not be safely coerced to any supported types according to the casting rule ''safe''"
     ]
    }
   ],
   "source": [
    "if __name__ == '__main__':\n",
    "    delete_all = False\n",
    "    delete_persons = False\n",
    "\n",
    "    if delete_all:\n",
    "        # to delete all existing entries for constituencies, partylists, seats and persons\n",
    "        pm.Constituency.objects.all().delete()\n",
    "        pm.PartyList.objects.all().delete()\n",
    "        pm.Party.objects.all().delete()\n",
    "        pm.Seat.objects.all().delete()\n",
    "        pm.Person.objects.all().delete()\n",
    "\n",
    "    elif delete_persons:\n",
    "        pm.Person.objects.filter(information_source=\"AustralianPoliticians\").delete()\n",
    "\n",
    "    # updating the parties\n",
    "    # update_parties()\n",
    "    # parsing the data\n",
    "    parse_aph_data(verbosity=0)"
   ]
  },
  {
   "cell_type": "markdown",
   "metadata": {},
   "source": [
    "### just testing"
   ]
  },
  {
   "cell_type": "code",
   "execution_count": 8,
   "metadata": {},
   "outputs": [
    {
     "name": "stdout",
     "output_type": "stream",
     "text": [
      "Done. 0 warnings.\n"
     ]
    }
   ],
   "source": [
    "warn = 0\n",
    "\n",
    "#df_pol = pd.read_csv(POL_FNAME)\n",
    "#print(\"read data from {}\".format(POL_FNAME))\n",
    "\n",
    "df_pol = df_all\n",
    "\n",
    "# going through entries for mdbs\n",
    "for i in df_pol.index:\n",
    "    pol = df_pol.loc[i]\n",
    "\n",
    "    person = pm.Person(\n",
    "        surname=str(pol['surname']),\n",
    "        first_name=str(pol['firstName']),\n",
    "        unique_id=str(pol['uniqueID'])\n",
    "        )\n",
    "\n",
    "    # profile information\n",
    "    title = str(pol['title'])\n",
    "    if title is not None:\n",
    "        person.title = title\n",
    "\n",
    "    dob = pol['birthDate']\n",
    "    dod = pol['deathDate']\n",
    "    yob = int(pol['birthYear'])\n",
    "\n",
    "    if dob == False:\n",
    "        person.date_of_birth = datetime.strptime(str(dob), '%Y-%m-%d') \n",
    "    else:\n",
    "        person.year_of_birth = yob\n",
    "\n",
    "    if dod == False:\n",
    "        person.date_of_death = datetime.strptime(str(dod), '%Y-%m-%d')\n",
    "\n",
    "    if pol['gender'] == \"male\":\n",
    "        person.gender = pm.Person.MALE\n",
    "    elif pol['gender'] == \"female\":\n",
    "        person.gender = pm.Person.FEMALE\n",
    "\n",
    "    # additional names\n",
    "    # surnames_list = []\n",
    "    firstnames_list = []\n",
    "\n",
    "    firstname = pol['allOtherNames']\n",
    "\n",
    "    if isinstance(firstname, str):\n",
    "        firstnames_list.append(firstname)\n",
    "\n",
    "        if len(firstname.split(' ')) > 1:\n",
    "            for fname in firstname.split(\" \"):\n",
    "                if len(fname) > 2:\n",
    "                    firstnames_list.append(fname)\n",
    "\n",
    "\n",
    "    commonname = pol['commonName']\n",
    "\n",
    "    if isinstance(commonname, str):\n",
    "        firstnames_list.append(commonname)\n",
    "\n",
    "        if len(commonname.split(' ')) > 1:\n",
    "            for cname in commonname.split(\" \"):\n",
    "                if len(cname) > 2:\n",
    "                    firstnames_list.append(cname)\n",
    "\n",
    "    person.alt_first_names = list(set(firstnames_list))\n",
    "\n",
    "    #if verbosity > 0:\n",
    "        # print name\n",
    "    #    print(\"Person: {}\".format(person))\n",
    "\n",
    "    person.active_country = cmodels.Country.objects.get(name='Australia')\n",
    "    # adding positions\n",
    "    if pol['member'] == 1:\n",
    "        person.positions = ['Member']\n",
    "    if pol['senator'] == 1:\n",
    "        person.positions = ['Senator']\n",
    "\n",
    "    person.information_source = \"AustralianPoliticians\"\n",
    "    person.save()\n",
    "\n",
    "    #person.in_parlperiod = wp_list\n",
    "    person.save()\n",
    "\n",
    "    break\n",
    "\n",
    "print(\"Done. {} warnings.\".format(warn))"
   ]
  },
  {
   "cell_type": "code",
   "execution_count": null,
   "metadata": {},
   "outputs": [],
   "source": []
  }
 ],
 "metadata": {
  "kernelspec": {
   "display_name": "venv",
   "language": "python",
   "name": "venv"
  },
  "language_info": {
   "codemirror_mode": {
    "name": "ipython",
    "version": 3
   },
   "file_extension": ".py",
   "mimetype": "text/x-python",
   "name": "python",
   "nbconvert_exporter": "python",
   "pygments_lexer": "ipython3",
   "version": "3.7.0"
  }
 },
 "nbformat": 4,
 "nbformat_minor": 2
}
