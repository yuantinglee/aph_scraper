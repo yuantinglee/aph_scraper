{
 "cells": [
  {
   "cell_type": "markdown",
   "metadata": {},
   "source": [
    "#### for Hansard xml version 2.0 ####"
   ]
  },
  {
   "cell_type": "code",
   "execution_count": 1,
   "metadata": {},
   "outputs": [
    {
     "name": "stderr",
     "output_type": "stream",
     "text": [
      "/home/leey/venv/lib/python3.7/site-packages/psycopg2/__init__.py:144: UserWarning: The psycopg2 wheel package will be renamed from release 2.8; in order to keep installing from binary please use \"pip install psycopg2-binary\" instead. For details see: <http://initd.org/psycopg/docs/install.html#binary-install-from-pypi>.\n",
      "  \"\"\")\n",
      "Slow version of gensim.models.doc2vec is being used\n",
      "Slow version of Fasttext is being used\n"
     ]
    }
   ],
   "source": [
    "import os\n",
    "import difflib\n",
    "import zipfile\n",
    "import lxml.etree as etree\n",
    "import random\n",
    "import re\n",
    "import sys\n",
    "import datetime as dt\n",
    "from datetime import datetime \n",
    "\n",
    "import django\n",
    "import platform\n",
    "\n",
    "#if platform.node() == \"mcc-apsis\":\n",
    "    #sys.path.append('/home/muef/tmv/BasicBrowser/')\n",
    "    #tei_path = \"/home/muef/GermaParlTEI-master\"\n",
    "\n",
    "#else:\n",
    "    # local paths\n",
    "    #sys.path.append('/media/Data/MCC/tmv/BasicBrowser/')\n",
    "    #tei_path = \"/media/Data/MCC/Parliament Germany/GermaParlTEI-master\"\n",
    "\n",
    "sys.path.append('/home/leey/Documents/Data/tmv/BasicBrowser/')\n",
    "xml_path = \"/home/leey/Documents/Data/australian_parliament_downloads/downloads_coal\"\n",
    "\n",
    "#sys.path.append('/home/galm/software/django/tmv/BasicBrowser/')\n",
    "\n",
    "os.environ.setdefault(\"DJANGO_SETTINGS_MODULE\", \"BasicBrowser.settings\")\n",
    "django.setup()\n",
    "\n",
    "# import from appended path\n",
    "import parliament.models as pm\n",
    "from parliament.tasks import do_search, run_tm\n",
    "import cities.models as cmodels\n",
    "from django.contrib.auth.models import User\n",
    "from django.db.models import Q\n",
    "import tmv_app.models as tm\n",
    "\n",
    "#from parsing_utils import dehyphenate_with_space, clean_text\n",
    "from find_person_in_db_aph import *\n",
    "#from regular_expressions_global import POI_MARK"
   ]
  },
  {
   "cell_type": "code",
   "execution_count": 2,
   "metadata": {
    "code_folding": [],
    "scrolled": false
   },
   "outputs": [
    {
     "name": "stdout",
     "output_type": "stream",
     "text": [
      "log file: ./parlsessions_aph_parser_output_191213_164852.log\n"
     ]
    }
   ],
   "source": [
    "# write output to file and terminal\n",
    "\n",
    "import pprint\n",
    "pretty_printer = pprint.PrettyPrinter(indent=4)\n",
    "\n",
    "time_stamp = datetime.now().strftime(\"%y%m%d_%H%M%S\")\n",
    "output_file = \"./parlsessions_aph_parser_output_\" + time_stamp + \".log\"\n",
    "print(\"log file: {}\".format(output_file))\n",
    "\n",
    "\n",
    "class Logger(object):\n",
    "    def __init__(self):\n",
    "        self.terminal = sys.stdout\n",
    "        self.log = open(output_file, \"a\")\n",
    "\n",
    "    def write(self, message):\n",
    "        self.terminal.write(message)\n",
    "        self.log.write(message)\n",
    "\n",
    "    def flush(self):\n",
    "        #this flush method is needed for python 3 compatibility.\n",
    "        #this handles the flush command by doing nothing.\n",
    "        #you might want to specify some extra behavior here.\n",
    "        pass"
   ]
  },
  {
   "cell_type": "code",
   "execution_count": 3,
   "metadata": {
    "code_folding": []
   },
   "outputs": [],
   "source": [
    "class parse_xml_items(object):\n",
    "\n",
    "    def __init__(self, xtree, v=1, period=None, session=None):\n",
    "        self.v = v\n",
    "        self.divs = xtree.findall(\"//debate\")\n",
    "        self.pp = int(xtree.xpath(\"//parliament.no//text()\")[0])\n",
    "        self.session = int(re.findall(r'\\b\\d+\\b', xtree.xpath(\"//session.no//text()\")[0])[0])\n",
    "\n",
    "        if period is not None:\n",
    "            if period != self.pp:\n",
    "                print(\"! Warning: period number not matching: {} {}\".format(period, self.pp))\n",
    "\n",
    "        if session is not None:\n",
    "            if session != self.session:\n",
    "                print(\"! Warning: session number not matching: {} {}\".format(session, self.session))\n",
    "\n",
    "        self.date = datetime.strptime(xtree.xpath(\"//date//text()\")[0], '%Y-%m-%d')\n",
    "        #try:\n",
    "        #    self.original_source = xtree.xpath(\"//sourceDesc//url//text()\")[0]\n",
    "        #except IndexError:\n",
    "        #    self.original_source = \"NA\"\n",
    "        if self.v > 0:\n",
    "            print(\"xml with protocol {}/{} from {}\".format(self.pp, self.session, self.date))\n",
    "\n",
    "    def get_or_create_objects(self):\n",
    "\n",
    "        replace_old_documents = False\n",
    "\n",
    "        parl, created = pm.Parl.objects.get_or_create(\n",
    "            country=cmodels.Country.objects.get(name=\"Australia\"),\n",
    "            level='N')\n",
    "        if created and self.v > 0:\n",
    "            print(\"created new object for parliament\")\n",
    "\n",
    "        pp, created = pm.ParlPeriod.objects.get_or_create(\n",
    "            parliament=parl,\n",
    "            n=self.pp)\n",
    "        if created and self.v > 0:\n",
    "            print(\"created new object for legislative period\")\n",
    "\n",
    "        if replace_old_documents == True:\n",
    "            doc, created = pm.Document.objects.get_or_create(\n",
    "                parlperiod=pp,\n",
    "                doc_type=\"Parliamentary Debate\",\n",
    "                date=self.date\n",
    "            )\n",
    "            if created:\n",
    "                print(\"created new object for parliamentary debate\")\n",
    "        else:\n",
    "            doc = pm.Document(\n",
    "                parlperiod=pp,\n",
    "                doc_type=\"Parliamentary Debate\",\n",
    "                date=self.date\n",
    "            )\n",
    "\n",
    "        doc.sitting = self.session\n",
    "        #doc.text_source = \"GermaParlTEI from \" + self.original_source\n",
    "        doc.save()\n",
    "\n",
    "        # delete old utterances associated with the doc\n",
    "        doc.utterance_set.all().delete()\n",
    "        self.doc = doc\n",
    "        return doc\n",
    "\n",
    "    def create_paragraph(self, text, utterance):\n",
    "        text = text.replace(\"\\n\\n\", \"\\n\")\n",
    "        text = clean_text(text)\n",
    "        para = pm.Paragraph(\n",
    "            utterance=utterance,\n",
    "            text=text,\n",
    "            word_count=len(text.split()),\n",
    "            char_len=len(text)\n",
    "        )\n",
    "        para.save()\n",
    "        return para\n",
    "\n",
    "    def add_interjection(self, text, speaker, paragraph):\n",
    "        interjection = pm.Interjection(\n",
    "                paragraph=paragraph,\n",
    "                text=text\n",
    "                )\n",
    "        interjection.type = pm.Interjection.SPEECH\n",
    "        interjection.save()\n",
    "        \n",
    "        if speaker:\n",
    "            interjection.persons.add(speaker)\n",
    "\n",
    "    def run(self):\n",
    "\n",
    "        self.get_or_create_objects()\n",
    "        accepted_tags = ['speech', 'question', 'answer']\n",
    "        \n",
    "        ### start parsing of speeches\n",
    "        for div in self.divs:\n",
    "            if self.v > 1:\n",
    "                print(\"div type: {}\".format(div.xpath(\"type/text()\")))\n",
    "            \n",
    "            for uts in div.iter('talk.start'):\n",
    "                if uts.getparent().tag in accepted_tags:\n",
    "                    # get agenda item \n",
    "                    tops = uts.xpath('ancestor::debate/child::debateinfo/child::title/text()')[0]\n",
    "                    tops = str(tops)\n",
    "                    \n",
    "                    # create agenda item\n",
    "                    agenda_item, created = pm.AgendaItem.objects.get_or_create(\n",
    "                    title = tops,\n",
    "                    document = self.doc\n",
    "                    )\n",
    "                    \n",
    "                    for name in uts.xpath('talker//name'):\n",
    "                        if name.get('role') == 'metadata':\n",
    "                            namemd = name.text.split(', ')\n",
    "                            if len(namemd) == 1:\n",
    "                                names = namemd[0]\n",
    "                            else:\n",
    "                                names = namemd[1] + ' ' + namemd[0]\n",
    "\n",
    "                    # match speaker to database:\n",
    "                    info_dict = {}\n",
    "                    for nameidxp in uts.xpath('talker/name.id/text()'): info_dict['nameid'] = nameidxp\n",
    "                    for partyxp in uts.xpath('talker/party/text()'): info_dict['party'] = partyxp\n",
    "                    for electoratexp in uts.xpath('talker/electorate/text()'): info_dict['electorate'] = electoratexp\n",
    "                    for rolexp in uts.xpath('talker/role/text()'): info_dict['role'] = rolexp\n",
    "                    info_dict['pp'] = self.pp\n",
    "                    info_dict['session'] = self.session\n",
    "                    info_dict['date'] = self.date\n",
    "\n",
    "                    speaker = find_person_in_db_aph(names, add_info=info_dict, verbosity=self.v)\n",
    "\n",
    "                    if speaker is None:\n",
    "                        print(namemd[1],namemd[0])\n",
    "\n",
    "                    #! to fix\n",
    "                    #speaker_role_set = pm.SpeakerRole.objects.filter(alt_names__contains={info_dict['role']})\n",
    "                    #if len(speaker_role_set) < 1:\n",
    "                    #    speaker_role = pm.SpeakerRole(name=info_dict['role'], alt_names={info_dict['role']})\n",
    "                    #    speaker_role.save()\n",
    "                    #else:\n",
    "                    #    speaker_role = speaker_role_set.first()\n",
    "                    #    if len(speaker_role_set) > 1:\n",
    "                    #        print(\"Warning: several speaker roles matching\")\n",
    "\n",
    "                    ut = pm.Utterance(\n",
    "                        document=self.doc,\n",
    "                        speaker=speaker,\n",
    "                        agenda_item = agenda_item,\n",
    "                        #speaker_role=speaker_role\n",
    "                    )\n",
    "                    ut.save()\n",
    "\n",
    "                    for c in uts.iter():\n",
    "                        if self.v > 1:\n",
    "                            print(\"{}: {}\".format(c.tag, c.text))\n",
    "\n",
    "                        if c.tag == \"para\":\n",
    "                            if c.text:\n",
    "                                para = self.create_paragraph(c.text.strip(u'\\u2014'), ut)\n",
    "\n",
    "\n",
    "                    for j in uts.xpath('following-sibling::*'):\n",
    "                        if j.tag == \"para\":\n",
    "                            if j.text:\n",
    "                                para = self.create_paragraph(j.text.strip(u'\\u2014'), ut)\n",
    "\n",
    "                        elif j.tag == \"interjection\":\n",
    "                            # identify speaker here\n",
    "                            for name in j.xpath('talk.start/talker/name'):\n",
    "                                if name.get('role') == 'metadata':\n",
    "                                    namemd_inj = name.text.split(', ')\n",
    "                                    if len(namemd_inj) == 1:\n",
    "                                        names_inj = namemd_inj[0]\n",
    "                                    else:\n",
    "                                        names_inj = namemd_inj[1] + ' ' + namemd_inj[0]\n",
    "\n",
    "                                    # match speaker to database:\n",
    "                                    info_dict = {}\n",
    "                                    for nameidxp in j.xpath('talk.start/talker/name.id/text()'): info_dict['nameid'] = nameidxp\n",
    "                                    info_dict['pp'] = self.pp\n",
    "                                    info_dict['session'] = self.session\n",
    "                                    info_dict['date'] = self.date\n",
    "\n",
    "                                    speaker_inj = find_person_in_db_aph(names_inj, add_info=info_dict, verbosity=self.v)\n",
    "\n",
    "                                    if speaker_inj is None:\n",
    "                                        print(namemd_inj[1], namemd_inj[0])\n",
    "\n",
    "                            for k in j.xpath('child::*/child::para'):\n",
    "                                # add interjection text and create interjection\n",
    "                                if k.text:\n",
    "                                    inj = self.add_interjection(k.text, speaker_inj, para)\n",
    "                                    \n",
    "                                else:\n",
    "                                    emptytext = \"\"\n",
    "                                    inj = self.add_interjection(emptytext, speaker_inj, para)\n",
    "\n",
    "                        elif j.tag == \"continue\":\n",
    "                            for con in j.xpath('child::*/child::para'):\n",
    "                                if con.text:\n",
    "                                    para = self.create_paragraph(con.text.strip(u'\\u2014'), ut)\n",
    "                \n",
    "                elif uts.getparent().tag == \"interjection\":\n",
    "                    for l in uts.xpath('parent::interjection/preceding-sibling::debateinfo/child::type'):\n",
    "                        if l.text == \"Notices\":\n",
    "                            # speaker\n",
    "                            for name in uts.xpath('talker//name'):\n",
    "                                if name.get('role') == 'metadata':\n",
    "                                    namemd = name.text.split(', ')\n",
    "                                    if len(namemd) == 1:\n",
    "                                        names = namemd[0]\n",
    "                                    else:\n",
    "                                        names = namemd[1] + ' ' + namemd[0]\n",
    "\n",
    "                            # match speaker to database:\n",
    "                            info_dict = {}\n",
    "                            for nameidxp in uts.xpath('talker/name.id/text()'): info_dict['nameid'] = nameidxp\n",
    "                            for partyxp in uts.xpath('talker/party/text()'): info_dict['party'] = partyxp\n",
    "                            for electoratexp in uts.xpath('talker/electorate/text()'): info_dict['electorate'] = electoratexp\n",
    "                            for rolexp in uts.xpath('talker/role/text()'): info_dict['role'] = rolexp\n",
    "                            info_dict['pp'] = self.pp\n",
    "                            info_dict['session'] = self.session\n",
    "                            info_dict['date'] = self.date\n",
    "\n",
    "                            speaker = find_person_in_db_aph(names, add_info=info_dict, verbosity=self.v)\n",
    "\n",
    "                            if speaker is None:\n",
    "                                print(namemd[1],namemd[0])\n",
    "\n",
    "                            ut = pm.Utterance(\n",
    "                                document=self.doc,\n",
    "                                speaker=speaker,\n",
    "                                #speaker_role=speaker_role\n",
    "                            )\n",
    "                            ut.save()\n",
    "                    \n",
    "                            # text\n",
    "                            for m in uts.xpath('child::para|following-sibling::motion/child::para'):\n",
    "                                if m.text:\n",
    "                                    para = self.create_paragraph(m.text.strip(u'\\u2014'), ut)"
   ]
  },
  {
   "cell_type": "code",
   "execution_count": 4,
   "metadata": {
    "code_folding": [
     29
    ],
    "scrolled": true
   },
   "outputs": [
    {
     "name": "stdout",
     "output_type": "stream",
     "text": [
      "reading from /home/leey/Documents/Data/australian_parliament_downloads/downloads_coal/168-7.xml\n",
      "xml with protocol 39/1 from 2000-02-16 00:00:00\n",
      "Mr SPEAKER\n"
     ]
    },
    {
     "ename": "IntegrityError",
     "evalue": "null value in column \"speaker_id\" violates not-null constraint\nDETAIL:  Failing row contains (627113, 3535, null, null, 1966).\n",
     "output_type": "error",
     "traceback": [
      "\u001b[0;31m---------------------------------------------------------------------------\u001b[0m",
      "\u001b[0;31mIntegrityError\u001b[0m                            Traceback (most recent call last)",
      "\u001b[0;32m~/venv/lib/python3.7/site-packages/django/db/backends/utils.py\u001b[0m in \u001b[0;36m_execute\u001b[0;34m(self, sql, params, *ignored_wrapper_args)\u001b[0m\n\u001b[1;32m     83\u001b[0m             \u001b[0;32melse\u001b[0m\u001b[0;34m:\u001b[0m\u001b[0;34m\u001b[0m\u001b[0;34m\u001b[0m\u001b[0m\n\u001b[0;32m---> 84\u001b[0;31m                 \u001b[0;32mreturn\u001b[0m \u001b[0mself\u001b[0m\u001b[0;34m.\u001b[0m\u001b[0mcursor\u001b[0m\u001b[0;34m.\u001b[0m\u001b[0mexecute\u001b[0m\u001b[0;34m(\u001b[0m\u001b[0msql\u001b[0m\u001b[0;34m,\u001b[0m \u001b[0mparams\u001b[0m\u001b[0;34m)\u001b[0m\u001b[0;34m\u001b[0m\u001b[0;34m\u001b[0m\u001b[0m\n\u001b[0m\u001b[1;32m     85\u001b[0m \u001b[0;34m\u001b[0m\u001b[0m\n",
      "\u001b[0;31mIntegrityError\u001b[0m: null value in column \"speaker_id\" violates not-null constraint\nDETAIL:  Failing row contains (627113, 3535, null, null, 1966).\n",
      "\nThe above exception was the direct cause of the following exception:\n",
      "\u001b[0;31mIntegrityError\u001b[0m                            Traceback (most recent call last)",
      "\u001b[0;32m<ipython-input-4-0bbfe9a60e27>\u001b[0m in \u001b[0;36m<module>\u001b[0;34m()\u001b[0m\n\u001b[1;32m     44\u001b[0m \u001b[0;34m\u001b[0m\u001b[0m\n\u001b[1;32m     45\u001b[0m         \u001b[0;31m# pm.Document.objects.filter(parlperiod__n=parser.wp, sitting=parser.session).delete()\u001b[0m\u001b[0;34m\u001b[0m\u001b[0;34m\u001b[0m\u001b[0;34m\u001b[0m\u001b[0m\n\u001b[0;32m---> 46\u001b[0;31m         \u001b[0mparser\u001b[0m\u001b[0;34m.\u001b[0m\u001b[0mrun\u001b[0m\u001b[0;34m(\u001b[0m\u001b[0;34m)\u001b[0m\u001b[0;34m\u001b[0m\u001b[0;34m\u001b[0m\u001b[0m\n\u001b[0m\u001b[1;32m     47\u001b[0m         \u001b[0mprint\u001b[0m\u001b[0;34m(\u001b[0m\u001b[0;34m\"Done.\"\u001b[0m\u001b[0;34m)\u001b[0m\u001b[0;34m\u001b[0m\u001b[0;34m\u001b[0m\u001b[0m\n\u001b[1;32m     48\u001b[0m \u001b[0;34m\u001b[0m\u001b[0m\n",
      "\u001b[0;32m<ipython-input-3-1ad72ae67db8>\u001b[0m in \u001b[0;36mrun\u001b[0;34m(self)\u001b[0m\n\u001b[1;32m    147\u001b[0m                         \u001b[0;31m#speaker_role=speaker_role\u001b[0m\u001b[0;34m\u001b[0m\u001b[0;34m\u001b[0m\u001b[0;34m\u001b[0m\u001b[0m\n\u001b[1;32m    148\u001b[0m                     )\n\u001b[0;32m--> 149\u001b[0;31m                     \u001b[0mut\u001b[0m\u001b[0;34m.\u001b[0m\u001b[0msave\u001b[0m\u001b[0;34m(\u001b[0m\u001b[0;34m)\u001b[0m\u001b[0;34m\u001b[0m\u001b[0;34m\u001b[0m\u001b[0m\n\u001b[0m\u001b[1;32m    150\u001b[0m \u001b[0;34m\u001b[0m\u001b[0m\n\u001b[1;32m    151\u001b[0m                     \u001b[0;32mfor\u001b[0m \u001b[0mc\u001b[0m \u001b[0;32min\u001b[0m \u001b[0muts\u001b[0m\u001b[0;34m.\u001b[0m\u001b[0miter\u001b[0m\u001b[0;34m(\u001b[0m\u001b[0;34m)\u001b[0m\u001b[0;34m:\u001b[0m\u001b[0;34m\u001b[0m\u001b[0;34m\u001b[0m\u001b[0m\n",
      "\u001b[0;32m~/venv/lib/python3.7/site-packages/django/db/models/base.py\u001b[0m in \u001b[0;36msave\u001b[0;34m(self, force_insert, force_update, using, update_fields)\u001b[0m\n\u001b[1;32m    739\u001b[0m \u001b[0;34m\u001b[0m\u001b[0m\n\u001b[1;32m    740\u001b[0m         self.save_base(using=using, force_insert=force_insert,\n\u001b[0;32m--> 741\u001b[0;31m                        force_update=force_update, update_fields=update_fields)\n\u001b[0m\u001b[1;32m    742\u001b[0m     \u001b[0msave\u001b[0m\u001b[0;34m.\u001b[0m\u001b[0malters_data\u001b[0m \u001b[0;34m=\u001b[0m \u001b[0;32mTrue\u001b[0m\u001b[0;34m\u001b[0m\u001b[0;34m\u001b[0m\u001b[0m\n\u001b[1;32m    743\u001b[0m \u001b[0;34m\u001b[0m\u001b[0m\n",
      "\u001b[0;32m~/venv/lib/python3.7/site-packages/django/db/models/base.py\u001b[0m in \u001b[0;36msave_base\u001b[0;34m(self, raw, force_insert, force_update, using, update_fields)\u001b[0m\n\u001b[1;32m    777\u001b[0m             updated = self._save_table(\n\u001b[1;32m    778\u001b[0m                 \u001b[0mraw\u001b[0m\u001b[0;34m,\u001b[0m \u001b[0mcls\u001b[0m\u001b[0;34m,\u001b[0m \u001b[0mforce_insert\u001b[0m \u001b[0;32mor\u001b[0m \u001b[0mparent_inserted\u001b[0m\u001b[0;34m,\u001b[0m\u001b[0;34m\u001b[0m\u001b[0;34m\u001b[0m\u001b[0m\n\u001b[0;32m--> 779\u001b[0;31m                 \u001b[0mforce_update\u001b[0m\u001b[0;34m,\u001b[0m \u001b[0musing\u001b[0m\u001b[0;34m,\u001b[0m \u001b[0mupdate_fields\u001b[0m\u001b[0;34m,\u001b[0m\u001b[0;34m\u001b[0m\u001b[0;34m\u001b[0m\u001b[0m\n\u001b[0m\u001b[1;32m    780\u001b[0m             )\n\u001b[1;32m    781\u001b[0m         \u001b[0;31m# Store the database on which the object was saved\u001b[0m\u001b[0;34m\u001b[0m\u001b[0;34m\u001b[0m\u001b[0;34m\u001b[0m\u001b[0m\n",
      "\u001b[0;32m~/venv/lib/python3.7/site-packages/django/db/models/base.py\u001b[0m in \u001b[0;36m_save_table\u001b[0;34m(self, raw, cls, force_insert, force_update, using, update_fields)\u001b[0m\n\u001b[1;32m    868\u001b[0m \u001b[0;34m\u001b[0m\u001b[0m\n\u001b[1;32m    869\u001b[0m             \u001b[0mupdate_pk\u001b[0m \u001b[0;34m=\u001b[0m \u001b[0mmeta\u001b[0m\u001b[0;34m.\u001b[0m\u001b[0mauto_field\u001b[0m \u001b[0;32mand\u001b[0m \u001b[0;32mnot\u001b[0m \u001b[0mpk_set\u001b[0m\u001b[0;34m\u001b[0m\u001b[0;34m\u001b[0m\u001b[0m\n\u001b[0;32m--> 870\u001b[0;31m             \u001b[0mresult\u001b[0m \u001b[0;34m=\u001b[0m \u001b[0mself\u001b[0m\u001b[0;34m.\u001b[0m\u001b[0m_do_insert\u001b[0m\u001b[0;34m(\u001b[0m\u001b[0mcls\u001b[0m\u001b[0;34m.\u001b[0m\u001b[0m_base_manager\u001b[0m\u001b[0;34m,\u001b[0m \u001b[0musing\u001b[0m\u001b[0;34m,\u001b[0m \u001b[0mfields\u001b[0m\u001b[0;34m,\u001b[0m \u001b[0mupdate_pk\u001b[0m\u001b[0;34m,\u001b[0m \u001b[0mraw\u001b[0m\u001b[0;34m)\u001b[0m\u001b[0;34m\u001b[0m\u001b[0;34m\u001b[0m\u001b[0m\n\u001b[0m\u001b[1;32m    871\u001b[0m             \u001b[0;32mif\u001b[0m \u001b[0mupdate_pk\u001b[0m\u001b[0;34m:\u001b[0m\u001b[0;34m\u001b[0m\u001b[0;34m\u001b[0m\u001b[0m\n\u001b[1;32m    872\u001b[0m                 \u001b[0msetattr\u001b[0m\u001b[0;34m(\u001b[0m\u001b[0mself\u001b[0m\u001b[0;34m,\u001b[0m \u001b[0mmeta\u001b[0m\u001b[0;34m.\u001b[0m\u001b[0mpk\u001b[0m\u001b[0;34m.\u001b[0m\u001b[0mattname\u001b[0m\u001b[0;34m,\u001b[0m \u001b[0mresult\u001b[0m\u001b[0;34m)\u001b[0m\u001b[0;34m\u001b[0m\u001b[0;34m\u001b[0m\u001b[0m\n",
      "\u001b[0;32m~/venv/lib/python3.7/site-packages/django/db/models/base.py\u001b[0m in \u001b[0;36m_do_insert\u001b[0;34m(self, manager, using, fields, update_pk, raw)\u001b[0m\n\u001b[1;32m    906\u001b[0m         \"\"\"\n\u001b[1;32m    907\u001b[0m         return manager._insert([self], fields=fields, return_id=update_pk,\n\u001b[0;32m--> 908\u001b[0;31m                                using=using, raw=raw)\n\u001b[0m\u001b[1;32m    909\u001b[0m \u001b[0;34m\u001b[0m\u001b[0m\n\u001b[1;32m    910\u001b[0m     \u001b[0;32mdef\u001b[0m \u001b[0mdelete\u001b[0m\u001b[0;34m(\u001b[0m\u001b[0mself\u001b[0m\u001b[0;34m,\u001b[0m \u001b[0musing\u001b[0m\u001b[0;34m=\u001b[0m\u001b[0;32mNone\u001b[0m\u001b[0;34m,\u001b[0m \u001b[0mkeep_parents\u001b[0m\u001b[0;34m=\u001b[0m\u001b[0;32mFalse\u001b[0m\u001b[0;34m)\u001b[0m\u001b[0;34m:\u001b[0m\u001b[0;34m\u001b[0m\u001b[0;34m\u001b[0m\u001b[0m\n",
      "\u001b[0;32m~/venv/lib/python3.7/site-packages/django/db/models/manager.py\u001b[0m in \u001b[0;36mmanager_method\u001b[0;34m(self, *args, **kwargs)\u001b[0m\n\u001b[1;32m     80\u001b[0m         \u001b[0;32mdef\u001b[0m \u001b[0mcreate_method\u001b[0m\u001b[0;34m(\u001b[0m\u001b[0mname\u001b[0m\u001b[0;34m,\u001b[0m \u001b[0mmethod\u001b[0m\u001b[0;34m)\u001b[0m\u001b[0;34m:\u001b[0m\u001b[0;34m\u001b[0m\u001b[0;34m\u001b[0m\u001b[0m\n\u001b[1;32m     81\u001b[0m             \u001b[0;32mdef\u001b[0m \u001b[0mmanager_method\u001b[0m\u001b[0;34m(\u001b[0m\u001b[0mself\u001b[0m\u001b[0;34m,\u001b[0m \u001b[0;34m*\u001b[0m\u001b[0margs\u001b[0m\u001b[0;34m,\u001b[0m \u001b[0;34m**\u001b[0m\u001b[0mkwargs\u001b[0m\u001b[0;34m)\u001b[0m\u001b[0;34m:\u001b[0m\u001b[0;34m\u001b[0m\u001b[0;34m\u001b[0m\u001b[0m\n\u001b[0;32m---> 82\u001b[0;31m                 \u001b[0;32mreturn\u001b[0m \u001b[0mgetattr\u001b[0m\u001b[0;34m(\u001b[0m\u001b[0mself\u001b[0m\u001b[0;34m.\u001b[0m\u001b[0mget_queryset\u001b[0m\u001b[0;34m(\u001b[0m\u001b[0;34m)\u001b[0m\u001b[0;34m,\u001b[0m \u001b[0mname\u001b[0m\u001b[0;34m)\u001b[0m\u001b[0;34m(\u001b[0m\u001b[0;34m*\u001b[0m\u001b[0margs\u001b[0m\u001b[0;34m,\u001b[0m \u001b[0;34m**\u001b[0m\u001b[0mkwargs\u001b[0m\u001b[0;34m)\u001b[0m\u001b[0;34m\u001b[0m\u001b[0;34m\u001b[0m\u001b[0m\n\u001b[0m\u001b[1;32m     83\u001b[0m             \u001b[0mmanager_method\u001b[0m\u001b[0;34m.\u001b[0m\u001b[0m__name__\u001b[0m \u001b[0;34m=\u001b[0m \u001b[0mmethod\u001b[0m\u001b[0;34m.\u001b[0m\u001b[0m__name__\u001b[0m\u001b[0;34m\u001b[0m\u001b[0;34m\u001b[0m\u001b[0m\n\u001b[1;32m     84\u001b[0m             \u001b[0mmanager_method\u001b[0m\u001b[0;34m.\u001b[0m\u001b[0m__doc__\u001b[0m \u001b[0;34m=\u001b[0m \u001b[0mmethod\u001b[0m\u001b[0;34m.\u001b[0m\u001b[0m__doc__\u001b[0m\u001b[0;34m\u001b[0m\u001b[0;34m\u001b[0m\u001b[0m\n",
      "\u001b[0;32m~/venv/lib/python3.7/site-packages/django/db/models/query.py\u001b[0m in \u001b[0;36m_insert\u001b[0;34m(self, objs, fields, return_id, raw, using, ignore_conflicts)\u001b[0m\n\u001b[1;32m   1184\u001b[0m         \u001b[0mquery\u001b[0m \u001b[0;34m=\u001b[0m \u001b[0msql\u001b[0m\u001b[0;34m.\u001b[0m\u001b[0mInsertQuery\u001b[0m\u001b[0;34m(\u001b[0m\u001b[0mself\u001b[0m\u001b[0;34m.\u001b[0m\u001b[0mmodel\u001b[0m\u001b[0;34m,\u001b[0m \u001b[0mignore_conflicts\u001b[0m\u001b[0;34m=\u001b[0m\u001b[0mignore_conflicts\u001b[0m\u001b[0;34m)\u001b[0m\u001b[0;34m\u001b[0m\u001b[0;34m\u001b[0m\u001b[0m\n\u001b[1;32m   1185\u001b[0m         \u001b[0mquery\u001b[0m\u001b[0;34m.\u001b[0m\u001b[0minsert_values\u001b[0m\u001b[0;34m(\u001b[0m\u001b[0mfields\u001b[0m\u001b[0;34m,\u001b[0m \u001b[0mobjs\u001b[0m\u001b[0;34m,\u001b[0m \u001b[0mraw\u001b[0m\u001b[0;34m=\u001b[0m\u001b[0mraw\u001b[0m\u001b[0;34m)\u001b[0m\u001b[0;34m\u001b[0m\u001b[0;34m\u001b[0m\u001b[0m\n\u001b[0;32m-> 1186\u001b[0;31m         \u001b[0;32mreturn\u001b[0m \u001b[0mquery\u001b[0m\u001b[0;34m.\u001b[0m\u001b[0mget_compiler\u001b[0m\u001b[0;34m(\u001b[0m\u001b[0musing\u001b[0m\u001b[0;34m=\u001b[0m\u001b[0musing\u001b[0m\u001b[0;34m)\u001b[0m\u001b[0;34m.\u001b[0m\u001b[0mexecute_sql\u001b[0m\u001b[0;34m(\u001b[0m\u001b[0mreturn_id\u001b[0m\u001b[0;34m)\u001b[0m\u001b[0;34m\u001b[0m\u001b[0;34m\u001b[0m\u001b[0m\n\u001b[0m\u001b[1;32m   1187\u001b[0m     \u001b[0m_insert\u001b[0m\u001b[0;34m.\u001b[0m\u001b[0malters_data\u001b[0m \u001b[0;34m=\u001b[0m \u001b[0;32mTrue\u001b[0m\u001b[0;34m\u001b[0m\u001b[0;34m\u001b[0m\u001b[0m\n\u001b[1;32m   1188\u001b[0m     \u001b[0m_insert\u001b[0m\u001b[0;34m.\u001b[0m\u001b[0mqueryset_only\u001b[0m \u001b[0;34m=\u001b[0m \u001b[0;32mFalse\u001b[0m\u001b[0;34m\u001b[0m\u001b[0;34m\u001b[0m\u001b[0m\n",
      "\u001b[0;32m~/venv/lib/python3.7/site-packages/django/db/models/sql/compiler.py\u001b[0m in \u001b[0;36mexecute_sql\u001b[0;34m(self, return_id)\u001b[0m\n\u001b[1;32m   1330\u001b[0m         \u001b[0;32mwith\u001b[0m \u001b[0mself\u001b[0m\u001b[0;34m.\u001b[0m\u001b[0mconnection\u001b[0m\u001b[0;34m.\u001b[0m\u001b[0mcursor\u001b[0m\u001b[0;34m(\u001b[0m\u001b[0;34m)\u001b[0m \u001b[0;32mas\u001b[0m \u001b[0mcursor\u001b[0m\u001b[0;34m:\u001b[0m\u001b[0;34m\u001b[0m\u001b[0;34m\u001b[0m\u001b[0m\n\u001b[1;32m   1331\u001b[0m             \u001b[0;32mfor\u001b[0m \u001b[0msql\u001b[0m\u001b[0;34m,\u001b[0m \u001b[0mparams\u001b[0m \u001b[0;32min\u001b[0m \u001b[0mself\u001b[0m\u001b[0;34m.\u001b[0m\u001b[0mas_sql\u001b[0m\u001b[0;34m(\u001b[0m\u001b[0;34m)\u001b[0m\u001b[0;34m:\u001b[0m\u001b[0;34m\u001b[0m\u001b[0;34m\u001b[0m\u001b[0m\n\u001b[0;32m-> 1332\u001b[0;31m                 \u001b[0mcursor\u001b[0m\u001b[0;34m.\u001b[0m\u001b[0mexecute\u001b[0m\u001b[0;34m(\u001b[0m\u001b[0msql\u001b[0m\u001b[0;34m,\u001b[0m \u001b[0mparams\u001b[0m\u001b[0;34m)\u001b[0m\u001b[0;34m\u001b[0m\u001b[0;34m\u001b[0m\u001b[0m\n\u001b[0m\u001b[1;32m   1333\u001b[0m             \u001b[0;32mif\u001b[0m \u001b[0;32mnot\u001b[0m \u001b[0mreturn_id\u001b[0m\u001b[0;34m:\u001b[0m\u001b[0;34m\u001b[0m\u001b[0;34m\u001b[0m\u001b[0m\n\u001b[1;32m   1334\u001b[0m                 \u001b[0;32mreturn\u001b[0m\u001b[0;34m\u001b[0m\u001b[0;34m\u001b[0m\u001b[0m\n",
      "\u001b[0;32m~/venv/lib/python3.7/site-packages/django/db/backends/utils.py\u001b[0m in \u001b[0;36mexecute\u001b[0;34m(self, sql, params)\u001b[0m\n\u001b[1;32m     97\u001b[0m         \u001b[0mstart\u001b[0m \u001b[0;34m=\u001b[0m \u001b[0mtime\u001b[0m\u001b[0;34m(\u001b[0m\u001b[0;34m)\u001b[0m\u001b[0;34m\u001b[0m\u001b[0;34m\u001b[0m\u001b[0m\n\u001b[1;32m     98\u001b[0m         \u001b[0;32mtry\u001b[0m\u001b[0;34m:\u001b[0m\u001b[0;34m\u001b[0m\u001b[0;34m\u001b[0m\u001b[0m\n\u001b[0;32m---> 99\u001b[0;31m             \u001b[0;32mreturn\u001b[0m \u001b[0msuper\u001b[0m\u001b[0;34m(\u001b[0m\u001b[0;34m)\u001b[0m\u001b[0;34m.\u001b[0m\u001b[0mexecute\u001b[0m\u001b[0;34m(\u001b[0m\u001b[0msql\u001b[0m\u001b[0;34m,\u001b[0m \u001b[0mparams\u001b[0m\u001b[0;34m)\u001b[0m\u001b[0;34m\u001b[0m\u001b[0;34m\u001b[0m\u001b[0m\n\u001b[0m\u001b[1;32m    100\u001b[0m         \u001b[0;32mfinally\u001b[0m\u001b[0;34m:\u001b[0m\u001b[0;34m\u001b[0m\u001b[0;34m\u001b[0m\u001b[0m\n\u001b[1;32m    101\u001b[0m             \u001b[0mstop\u001b[0m \u001b[0;34m=\u001b[0m \u001b[0mtime\u001b[0m\u001b[0;34m(\u001b[0m\u001b[0;34m)\u001b[0m\u001b[0;34m\u001b[0m\u001b[0;34m\u001b[0m\u001b[0m\n",
      "\u001b[0;32m~/venv/lib/python3.7/site-packages/django/db/backends/utils.py\u001b[0m in \u001b[0;36mexecute\u001b[0;34m(self, sql, params)\u001b[0m\n\u001b[1;32m     65\u001b[0m \u001b[0;34m\u001b[0m\u001b[0m\n\u001b[1;32m     66\u001b[0m     \u001b[0;32mdef\u001b[0m \u001b[0mexecute\u001b[0m\u001b[0;34m(\u001b[0m\u001b[0mself\u001b[0m\u001b[0;34m,\u001b[0m \u001b[0msql\u001b[0m\u001b[0;34m,\u001b[0m \u001b[0mparams\u001b[0m\u001b[0;34m=\u001b[0m\u001b[0;32mNone\u001b[0m\u001b[0;34m)\u001b[0m\u001b[0;34m:\u001b[0m\u001b[0;34m\u001b[0m\u001b[0;34m\u001b[0m\u001b[0m\n\u001b[0;32m---> 67\u001b[0;31m         \u001b[0;32mreturn\u001b[0m \u001b[0mself\u001b[0m\u001b[0;34m.\u001b[0m\u001b[0m_execute_with_wrappers\u001b[0m\u001b[0;34m(\u001b[0m\u001b[0msql\u001b[0m\u001b[0;34m,\u001b[0m \u001b[0mparams\u001b[0m\u001b[0;34m,\u001b[0m \u001b[0mmany\u001b[0m\u001b[0;34m=\u001b[0m\u001b[0;32mFalse\u001b[0m\u001b[0;34m,\u001b[0m \u001b[0mexecutor\u001b[0m\u001b[0;34m=\u001b[0m\u001b[0mself\u001b[0m\u001b[0;34m.\u001b[0m\u001b[0m_execute\u001b[0m\u001b[0;34m)\u001b[0m\u001b[0;34m\u001b[0m\u001b[0;34m\u001b[0m\u001b[0m\n\u001b[0m\u001b[1;32m     68\u001b[0m \u001b[0;34m\u001b[0m\u001b[0m\n\u001b[1;32m     69\u001b[0m     \u001b[0;32mdef\u001b[0m \u001b[0mexecutemany\u001b[0m\u001b[0;34m(\u001b[0m\u001b[0mself\u001b[0m\u001b[0;34m,\u001b[0m \u001b[0msql\u001b[0m\u001b[0;34m,\u001b[0m \u001b[0mparam_list\u001b[0m\u001b[0;34m)\u001b[0m\u001b[0;34m:\u001b[0m\u001b[0;34m\u001b[0m\u001b[0;34m\u001b[0m\u001b[0m\n",
      "\u001b[0;32m~/venv/lib/python3.7/site-packages/django/db/backends/utils.py\u001b[0m in \u001b[0;36m_execute_with_wrappers\u001b[0;34m(self, sql, params, many, executor)\u001b[0m\n\u001b[1;32m     74\u001b[0m         \u001b[0;32mfor\u001b[0m \u001b[0mwrapper\u001b[0m \u001b[0;32min\u001b[0m \u001b[0mreversed\u001b[0m\u001b[0;34m(\u001b[0m\u001b[0mself\u001b[0m\u001b[0;34m.\u001b[0m\u001b[0mdb\u001b[0m\u001b[0;34m.\u001b[0m\u001b[0mexecute_wrappers\u001b[0m\u001b[0;34m)\u001b[0m\u001b[0;34m:\u001b[0m\u001b[0;34m\u001b[0m\u001b[0;34m\u001b[0m\u001b[0m\n\u001b[1;32m     75\u001b[0m             \u001b[0mexecutor\u001b[0m \u001b[0;34m=\u001b[0m \u001b[0mfunctools\u001b[0m\u001b[0;34m.\u001b[0m\u001b[0mpartial\u001b[0m\u001b[0;34m(\u001b[0m\u001b[0mwrapper\u001b[0m\u001b[0;34m,\u001b[0m \u001b[0mexecutor\u001b[0m\u001b[0;34m)\u001b[0m\u001b[0;34m\u001b[0m\u001b[0;34m\u001b[0m\u001b[0m\n\u001b[0;32m---> 76\u001b[0;31m         \u001b[0;32mreturn\u001b[0m \u001b[0mexecutor\u001b[0m\u001b[0;34m(\u001b[0m\u001b[0msql\u001b[0m\u001b[0;34m,\u001b[0m \u001b[0mparams\u001b[0m\u001b[0;34m,\u001b[0m \u001b[0mmany\u001b[0m\u001b[0;34m,\u001b[0m \u001b[0mcontext\u001b[0m\u001b[0;34m)\u001b[0m\u001b[0;34m\u001b[0m\u001b[0;34m\u001b[0m\u001b[0m\n\u001b[0m\u001b[1;32m     77\u001b[0m \u001b[0;34m\u001b[0m\u001b[0m\n\u001b[1;32m     78\u001b[0m     \u001b[0;32mdef\u001b[0m \u001b[0m_execute\u001b[0m\u001b[0;34m(\u001b[0m\u001b[0mself\u001b[0m\u001b[0;34m,\u001b[0m \u001b[0msql\u001b[0m\u001b[0;34m,\u001b[0m \u001b[0mparams\u001b[0m\u001b[0;34m,\u001b[0m \u001b[0;34m*\u001b[0m\u001b[0mignored_wrapper_args\u001b[0m\u001b[0;34m)\u001b[0m\u001b[0;34m:\u001b[0m\u001b[0;34m\u001b[0m\u001b[0;34m\u001b[0m\u001b[0m\n",
      "\u001b[0;32m~/venv/lib/python3.7/site-packages/django/db/backends/utils.py\u001b[0m in \u001b[0;36m_execute\u001b[0;34m(self, sql, params, *ignored_wrapper_args)\u001b[0m\n\u001b[1;32m     82\u001b[0m                 \u001b[0;32mreturn\u001b[0m \u001b[0mself\u001b[0m\u001b[0;34m.\u001b[0m\u001b[0mcursor\u001b[0m\u001b[0;34m.\u001b[0m\u001b[0mexecute\u001b[0m\u001b[0;34m(\u001b[0m\u001b[0msql\u001b[0m\u001b[0;34m)\u001b[0m\u001b[0;34m\u001b[0m\u001b[0;34m\u001b[0m\u001b[0m\n\u001b[1;32m     83\u001b[0m             \u001b[0;32melse\u001b[0m\u001b[0;34m:\u001b[0m\u001b[0;34m\u001b[0m\u001b[0;34m\u001b[0m\u001b[0m\n\u001b[0;32m---> 84\u001b[0;31m                 \u001b[0;32mreturn\u001b[0m \u001b[0mself\u001b[0m\u001b[0;34m.\u001b[0m\u001b[0mcursor\u001b[0m\u001b[0;34m.\u001b[0m\u001b[0mexecute\u001b[0m\u001b[0;34m(\u001b[0m\u001b[0msql\u001b[0m\u001b[0;34m,\u001b[0m \u001b[0mparams\u001b[0m\u001b[0;34m)\u001b[0m\u001b[0;34m\u001b[0m\u001b[0;34m\u001b[0m\u001b[0m\n\u001b[0m\u001b[1;32m     85\u001b[0m \u001b[0;34m\u001b[0m\u001b[0m\n\u001b[1;32m     86\u001b[0m     \u001b[0;32mdef\u001b[0m \u001b[0m_executemany\u001b[0m\u001b[0;34m(\u001b[0m\u001b[0mself\u001b[0m\u001b[0;34m,\u001b[0m \u001b[0msql\u001b[0m\u001b[0;34m,\u001b[0m \u001b[0mparam_list\u001b[0m\u001b[0;34m,\u001b[0m \u001b[0;34m*\u001b[0m\u001b[0mignored_wrapper_args\u001b[0m\u001b[0;34m)\u001b[0m\u001b[0;34m:\u001b[0m\u001b[0;34m\u001b[0m\u001b[0;34m\u001b[0m\u001b[0m\n",
      "\u001b[0;32m~/venv/lib/python3.7/site-packages/django/db/utils.py\u001b[0m in \u001b[0;36m__exit__\u001b[0;34m(self, exc_type, exc_value, traceback)\u001b[0m\n\u001b[1;32m     87\u001b[0m                 \u001b[0;32mif\u001b[0m \u001b[0mdj_exc_type\u001b[0m \u001b[0;32mnot\u001b[0m \u001b[0;32min\u001b[0m \u001b[0;34m(\u001b[0m\u001b[0mDataError\u001b[0m\u001b[0;34m,\u001b[0m \u001b[0mIntegrityError\u001b[0m\u001b[0;34m)\u001b[0m\u001b[0;34m:\u001b[0m\u001b[0;34m\u001b[0m\u001b[0;34m\u001b[0m\u001b[0m\n\u001b[1;32m     88\u001b[0m                     \u001b[0mself\u001b[0m\u001b[0;34m.\u001b[0m\u001b[0mwrapper\u001b[0m\u001b[0;34m.\u001b[0m\u001b[0merrors_occurred\u001b[0m \u001b[0;34m=\u001b[0m \u001b[0;32mTrue\u001b[0m\u001b[0;34m\u001b[0m\u001b[0;34m\u001b[0m\u001b[0m\n\u001b[0;32m---> 89\u001b[0;31m                 \u001b[0;32mraise\u001b[0m \u001b[0mdj_exc_value\u001b[0m\u001b[0;34m.\u001b[0m\u001b[0mwith_traceback\u001b[0m\u001b[0;34m(\u001b[0m\u001b[0mtraceback\u001b[0m\u001b[0;34m)\u001b[0m \u001b[0;32mfrom\u001b[0m \u001b[0mexc_value\u001b[0m\u001b[0;34m\u001b[0m\u001b[0;34m\u001b[0m\u001b[0m\n\u001b[0m\u001b[1;32m     90\u001b[0m \u001b[0;34m\u001b[0m\u001b[0m\n\u001b[1;32m     91\u001b[0m     \u001b[0;32mdef\u001b[0m \u001b[0m__call__\u001b[0m\u001b[0;34m(\u001b[0m\u001b[0mself\u001b[0m\u001b[0;34m,\u001b[0m \u001b[0mfunc\u001b[0m\u001b[0;34m)\u001b[0m\u001b[0;34m:\u001b[0m\u001b[0;34m\u001b[0m\u001b[0;34m\u001b[0m\u001b[0m\n",
      "\u001b[0;32m~/venv/lib/python3.7/site-packages/django/db/backends/utils.py\u001b[0m in \u001b[0;36m_execute\u001b[0;34m(self, sql, params, *ignored_wrapper_args)\u001b[0m\n\u001b[1;32m     82\u001b[0m                 \u001b[0;32mreturn\u001b[0m \u001b[0mself\u001b[0m\u001b[0;34m.\u001b[0m\u001b[0mcursor\u001b[0m\u001b[0;34m.\u001b[0m\u001b[0mexecute\u001b[0m\u001b[0;34m(\u001b[0m\u001b[0msql\u001b[0m\u001b[0;34m)\u001b[0m\u001b[0;34m\u001b[0m\u001b[0;34m\u001b[0m\u001b[0m\n\u001b[1;32m     83\u001b[0m             \u001b[0;32melse\u001b[0m\u001b[0;34m:\u001b[0m\u001b[0;34m\u001b[0m\u001b[0;34m\u001b[0m\u001b[0m\n\u001b[0;32m---> 84\u001b[0;31m                 \u001b[0;32mreturn\u001b[0m \u001b[0mself\u001b[0m\u001b[0;34m.\u001b[0m\u001b[0mcursor\u001b[0m\u001b[0;34m.\u001b[0m\u001b[0mexecute\u001b[0m\u001b[0;34m(\u001b[0m\u001b[0msql\u001b[0m\u001b[0;34m,\u001b[0m \u001b[0mparams\u001b[0m\u001b[0;34m)\u001b[0m\u001b[0;34m\u001b[0m\u001b[0;34m\u001b[0m\u001b[0m\n\u001b[0m\u001b[1;32m     85\u001b[0m \u001b[0;34m\u001b[0m\u001b[0m\n\u001b[1;32m     86\u001b[0m     \u001b[0;32mdef\u001b[0m \u001b[0m_executemany\u001b[0m\u001b[0;34m(\u001b[0m\u001b[0mself\u001b[0m\u001b[0;34m,\u001b[0m \u001b[0msql\u001b[0m\u001b[0;34m,\u001b[0m \u001b[0mparam_list\u001b[0m\u001b[0;34m,\u001b[0m \u001b[0;34m*\u001b[0m\u001b[0mignored_wrapper_args\u001b[0m\u001b[0;34m)\u001b[0m\u001b[0;34m:\u001b[0m\u001b[0;34m\u001b[0m\u001b[0;34m\u001b[0m\u001b[0m\n",
      "\u001b[0;31mIntegrityError\u001b[0m: null value in column \"speaker_id\" violates not-null constraint\nDETAIL:  Failing row contains (627113, 3535, null, null, 1966).\n"
     ]
    }
   ],
   "source": [
    "# main execution script\n",
    "if __name__ == '__main__':\n",
    "\n",
    "    sys.stdout = Logger()\n",
    "\n",
    "    single_doc = True\n",
    "    replace_docs = False\n",
    "\n",
    "    delete_all_words = False\n",
    "    delete_all_parties = False\n",
    "    delete_all_people = False\n",
    "    delete_additional_persons = False\n",
    "\n",
    "    if delete_all_words:\n",
    "        print(\"Deleting all documents, utterances, paragraphs and interjections.\")\n",
    "        pm.Interjection.objects.all().delete()\n",
    "        pm.Paragraph.objects.all().delete()\n",
    "        pm.Utterance.objects.all().delete()\n",
    "        pm.Document.objects.all().delete()\n",
    "        print(\"Deletion done.\")\n",
    "        \n",
    "    if delete_all_parties:\n",
    "        print(\"Deleting all parties added.\")\n",
    "        pm.Party.objects.all().delete()\n",
    "        \n",
    "    if delete_all_people:\n",
    "        print(\"Deleting all people added.\")\n",
    "        pm.Person.objects.all().delete()\n",
    "            \n",
    "    if delete_additional_persons:\n",
    "        print(\"Deleting all persons added from protocol parsing.\")\n",
    "        pm.Person.objects.filter(information_source__startswith=\"from protocol scraping\").delete()\n",
    "\n",
    "    if single_doc:\n",
    "        # single file\n",
    "        #xml_file = os.path.join(xml_path, \"163-5858.xml\") \n",
    "        xml_file = os.path.join(xml_path, \"168-7.xml\") \n",
    "        \n",
    "        print(\"reading from {}\".format(xml_file))\n",
    "\n",
    "        xtree = etree.parse(xml_file)\n",
    "        etree.strip_tags(xtree, 'inline')\n",
    "        parser = parse_xml_items(xtree)\n",
    "\n",
    "        # pm.Document.objects.filter(parlperiod__n=parser.wp, sitting=parser.session).delete()\n",
    "        parser.run()\n",
    "        print(\"Done.\")\n",
    "\n",
    "        exit()"
   ]
  },
  {
   "cell_type": "code",
   "execution_count": null,
   "metadata": {
    "code_folding": [
     0
    ]
   },
   "outputs": [],
   "source": [
    "# go through all scripts iteratively\n",
    "    \n",
    "for pperiod in range(13, 12, -1):\n",
    "        for session in range(0, 300):\n",
    "\n",
    "            xml_file = os.path.join(tei_path, \"{wp:02d}/BT_{wp:02d}_{sn:03d}.xml\".format(wp=pperiod, sn=session))\n",
    "\n",
    "            if os.path.isfile(xml_file):\n",
    "                print(\"reading from {}\".format(xml_file))\n",
    "\n",
    "                xtree = etree.parse(xml_file)\n",
    "                if replace_docs:\n",
    "                    pm.Document.objects.filter(parlperiod__n=pperiod, sitting=session).delete()\n",
    "                pm.Document.objects.filter(parlperiod__n=pperiod, sitting=session,\n",
    "                                           text_source__startswith=\"GermaParlTEI from \").delete()\n",
    "\n",
    "                parser = parse_tei_items(xtree, period=pperiod, session=session)\n",
    "                parser.run()\n",
    "                \n",
    "                print(\"Done\")\n",
    "                exit()"
   ]
  },
  {
   "cell_type": "markdown",
   "metadata": {},
   "source": [
    "### Examine results of scraper"
   ]
  },
  {
   "cell_type": "code",
   "execution_count": 18,
   "metadata": {},
   "outputs": [
    {
     "data": {
      "text/plain": [
       "(1, {'parliament.Document_search_matches': 0, 'parliament.Document': 1})"
      ]
     },
     "execution_count": 18,
     "metadata": {},
     "output_type": "execute_result"
    }
   ],
   "source": [
    "# deleting specific document objects\n",
    "pm.Document.objects.filter(id=3534).delete()"
   ]
  },
  {
   "cell_type": "code",
   "execution_count": 2,
   "metadata": {},
   "outputs": [
    {
     "name": "stdout",
     "output_type": "stream",
     "text": [
      "<QuerySet [<Person: Frank Mossfield>]>\n"
     ]
    }
   ],
   "source": [
    "# checking name ids\n",
    "name_id = \"MK6\"\n",
    "query = pm.Person.objects.filter(aph_id=name_id)\n",
    "print(query)"
   ]
  },
  {
   "cell_type": "code",
   "execution_count": 5,
   "metadata": {},
   "outputs": [
    {
     "data": {
      "text/plain": [
       "'SPEAKER'"
      ]
     },
     "execution_count": 5,
     "metadata": {},
     "output_type": "execute_result"
    }
   ],
   "source": [
    "#nametest = 'Harry (Mr DEPUTY SPEAKER) Jenkins'\n",
    "nametest = 'Mr SPEAKER'\n",
    "name = re.sub(r'\\([^)]*\\)', '', nametest)\n",
    "name = name.replace('  ', ' ')\n",
    "name = name.replace('Dr ', '')\n",
    "name = name.replace('Mr ', '')\n",
    "name = name.replace('The ', '')\n",
    "\n",
    "if len(name.split(' ')) > 1:\n",
    "        surname = name.split(' ')[-1]\n",
    "        firstname = name.split(' ')[0]\n",
    "else:\n",
    "    surname = name\n",
    "    firstname = ''\n",
    "\n",
    "surname"
   ]
  },
  {
   "cell_type": "code",
   "execution_count": 2,
   "metadata": {
    "scrolled": true
   },
   "outputs": [
    {
     "name": "stdout",
     "output_type": "stream",
     "text": [
      "Sir Frederick Holder\n",
      "Sir Frederick Holder\n",
      "Sir Frederick Holder\n",
      "Charles Salmon\n",
      "Charles McDonald\n",
      "William Johnson\n",
      "Charles McDonald\n",
      "William Johnson\n",
      "William Johnson\n",
      "William Watt\n",
      "Littleton Groom\n",
      "Littleton Groom\n",
      "Norman Makin\n",
      "George Mackay\n",
      "George Bell\n",
      "George Bell\n",
      "Walter Nairn\n",
      "John Rosevear\n",
      "John Rosevear\n",
      "John Rosevear\n",
      "Archie Cameron\n",
      "Archie Cameron\n",
      "Archie Cameron\n",
      "Archie Cameron\n",
      "William Aston\n",
      "William Aston\n",
      "James Cope\n",
      "James Cope\n",
      "Gordon Scholes\n",
      "Billy Snedden\n",
      "Billy Snedden\n",
      "Billy Snedden\n",
      "Gloria Child\n",
      "Gloria Child\n",
      "Leo McLeay\n",
      "Leo McLeay\n",
      "Stephen Martin\n",
      "Robert Halverson\n",
      "Ian Sinclair\n",
      "John Andrew\n",
      "John Andrew\n",
      "David Hawker\n",
      "Peter Slipper\n",
      "Anna Burke\n",
      "Bronwyn Bishop\n",
      "John McLeay\n",
      "John McLeay\n",
      "John McLeay\n",
      "John McLeay\n",
      "Dr Henry Jenkins\n",
      "Dr Henry Jenkins\n",
      "Henry Jenkins\n",
      "Henry Jenkins\n",
      "Anthony Smith\n"
     ]
    }
   ],
   "source": [
    "for i in pm.Post.objects.all():\n",
    "    print(i.person)"
   ]
  },
  {
   "cell_type": "code",
   "execution_count": 4,
   "metadata": {},
   "outputs": [
    {
     "name": "stdout",
     "output_type": "stream",
     "text": [
      "<QuerySet [<Person: Dr Henry Jenkins>, <Person: Henry Jenkins>]>\n"
     ]
    }
   ],
   "source": [
    "query = pm.Person.objects.filter(surname='Jenkins', first_name='Henry', information_source='AustralianPoliticians')\n",
    "print(query)"
   ]
  },
  {
   "cell_type": "code",
   "execution_count": 6,
   "metadata": {},
   "outputs": [
    {
     "data": {
      "text/plain": [
       "['Alfred', 'Henry', 'Henry Alfred', '(Jr)', 'Harry', 'Harry (Jr)']"
      ]
     },
     "execution_count": 6,
     "metadata": {},
     "output_type": "execute_result"
    }
   ],
   "source": [
    "query[1].alt_first_names"
   ]
  },
  {
   "cell_type": "code",
   "execution_count": 5,
   "metadata": {},
   "outputs": [],
   "source": [
    "date = datetime.strptime('2000-02-16', '%Y-%m-%d')"
   ]
  },
  {
   "cell_type": "code",
   "execution_count": 12,
   "metadata": {},
   "outputs": [],
   "source": [
    "rquery = pm.Post.objects.filter(\n",
    "            Q(title='Deputy Speaker') | Q(title='Second Deputy Speaker'),\n",
    "            #parlperiod__n=pp,\n",
    "            start_date__lte = date,\n",
    "            end_date__gte = date\n",
    "            )"
   ]
  },
  {
   "cell_type": "code",
   "execution_count": 13,
   "metadata": {},
   "outputs": [
    {
     "data": {
      "text/plain": [
       "<QuerySet [<Post: Post object (277)>, <Post: Post object (296)>]>"
      ]
     },
     "execution_count": 13,
     "metadata": {},
     "output_type": "execute_result"
    }
   ],
   "source": [
    "rquery"
   ]
  },
  {
   "cell_type": "code",
   "execution_count": 16,
   "metadata": {},
   "outputs": [
    {
     "data": {
      "text/plain": [
       "<Person: Henry Jenkins>"
      ]
     },
     "execution_count": 16,
     "metadata": {},
     "output_type": "execute_result"
    }
   ],
   "source": [
    "surname='Jenkins'\n",
    "squery = rquery.filter(person__surname = surname)\n",
    "parl_speaker = squery.first().person\n",
    "parl_speaker"
   ]
  },
  {
   "cell_type": "code",
   "execution_count": 26,
   "metadata": {},
   "outputs": [],
   "source": [
    "name_id='10000'\n",
    "\n",
    "if name_id == '10000':\n",
    "    print('ya')"
   ]
  },
  {
   "cell_type": "code",
   "execution_count": 23,
   "metadata": {},
   "outputs": [
    {
     "data": {
      "text/plain": [
       "True"
      ]
     },
     "execution_count": 23,
     "metadata": {},
     "output_type": "execute_result"
    }
   ],
   "source": [
    "name_id == '10000'"
   ]
  },
  {
   "cell_type": "code",
   "execution_count": null,
   "metadata": {},
   "outputs": [],
   "source": []
  }
 ],
 "metadata": {
  "kernelspec": {
   "display_name": "venv",
   "language": "python",
   "name": "venv"
  },
  "language_info": {
   "codemirror_mode": {
    "name": "ipython",
    "version": 3
   },
   "file_extension": ".py",
   "mimetype": "text/x-python",
   "name": "python",
   "nbconvert_exporter": "python",
   "pygments_lexer": "ipython3",
   "version": "3.7.0"
  }
 },
 "nbformat": 4,
 "nbformat_minor": 2
}
